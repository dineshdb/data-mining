{
 "cells": [
  {
   "cell_type": "code",
   "execution_count": 1,
   "metadata": {},
   "outputs": [],
   "source": [
    "import pandas as pd"
   ]
  },
  {
   "cell_type": "code",
   "execution_count": 6,
   "metadata": {},
   "outputs": [],
   "source": [
    "data = pd.read_csv('/Users/ShresthaRupesh/Desktop/dataset_for_first_decision_tree.csv')"
   ]
  },
  {
   "cell_type": "code",
   "execution_count": 55,
   "metadata": {},
   "outputs": [
    {
     "data": {
      "text/plain": [
       "5"
      ]
     },
     "execution_count": 55,
     "metadata": {},
     "output_type": "execute_result"
    }
   ],
   "source": [
    "partitionedData = pd.DataFrame()\n",
    "partitionedData = data[data.age == 'youth']\n",
    "len(partitionedData.index)\n",
    "\n"
   ]
  },
  {
   "cell_type": "code",
   "execution_count": 52,
   "metadata": {},
   "outputs": [
    {
     "name": "stdout",
     "output_type": "stream",
     "text": [
      "age              5\n",
      "income           5\n",
      "student          5\n",
      "credit_rating    5\n",
      "Class            5\n",
      "dtype: int64\n"
     ]
    }
   ],
   "source": [
    "classes = list(set(data.Class))\n",
    "from collections import Counter\n",
    "Class = data.Class\n",
    "counts = Counter(dict(Class).values())\n",
    "sum(counts.values())"
   ]
  },
  {
   "cell_type": "code",
   "execution_count": 153,
   "metadata": {},
   "outputs": [
    {
     "name": "stdout",
     "output_type": "stream",
     "text": [
      " / / / / / / / / / / / / / / / / / / / /age////////////////////\n",
      "youth\n",
      "student\n",
      "yes\n",
      "yes\n",
      "no\n",
      "no\n",
      "middle_aged\n",
      "yes\n",
      "senior\n",
      "credit_rating\n",
      "excellent\n",
      "no\n",
      "fair\n",
      "yes\n"
     ]
    }
   ],
   "source": [
    "from collections import Counter\n",
    "import numpy as np\n",
    "\n",
    "class Node:\n",
    "    def __init__(self):\n",
    "        self.attribute = \"\"\n",
    "        self.children = []\n",
    "        self.branches = []\n",
    "        self.isLeaf = False\n",
    "        self.ClassLabel = \"\"\n",
    "\n",
    "class DecisionTree:\n",
    "    \n",
    "    def __init__(self,train_data):\n",
    "        self.train_data = train_data\n",
    "        self.size = len(self.train_data.index)\n",
    "        self.attributes = list(self.train_data.columns)\n",
    "        self.Class = self.attributes[-1]\n",
    "        self.totalEntropy = self.getEntropy(self.train_data)\n",
    "        self.root = None\n",
    "    \n",
    "    \n",
    "    def getEntropy(self,data):\n",
    "        Class = self.Class\n",
    "        \n",
    "        classes = list(set(data[Class]))\n",
    "        counts = Counter(dict(data[Class]).values())\n",
    "        total = sum(counts.values())\n",
    "        entropy = 0\n",
    "        for count in counts.values():\n",
    "            probability = count/total\n",
    "            entropy+= -probability*np.log2(probability)\n",
    "        return entropy\n",
    "    \n",
    "    def getAttributeValues(self,attribute):\n",
    "        return list(set(self.train_data[attribute]))\n",
    "    \n",
    "    def partition(self,data,attribute):\n",
    "        attributeValues = self.getAttributeValues(attribute)\n",
    "        partitions = []\n",
    "        for value in attributeValues:\n",
    "            partitions.append(pd.DataFrame(data[data[attribute] == value]).drop(columns = [attribute]))\n",
    "        return partitions\n",
    "    \n",
    "    def getInformationContent(self,data,attribute):\n",
    "        Class = self.Class\n",
    "        partitions = self.partition(data,attribute)\n",
    "        informationContent = 0\n",
    "        \n",
    "        for partition in partitions:\n",
    "            informationContent+= (len(partition.index)/self.size)*self.getEntropy(partition)\n",
    "        return (informationContent)\n",
    "    \n",
    "    def getGain(self,data,attribute):\n",
    "        return self.totalEntropy - self.getInformationContent(data,attribute)\n",
    "    \n",
    "    \n",
    "    \n",
    "    def chooseNode(self,data,attribute_list):\n",
    "       \n",
    "        args = []\n",
    "        for i in range(len(self.attributes)-1):\n",
    "            if self.attributes[i] in attribute_list:\n",
    "                args.append(self.getGain(data,self.attributes[i]))\n",
    "            else:\n",
    "                args.append(0)\n",
    "\n",
    "        return self.attributes[np.argmax(args)]\n",
    "    \n",
    "    def isLeafNode(self,data):\n",
    "        return len(set(data[self.Class])) == 1\n",
    "    \n",
    "    def getClassLabel(self,data):\n",
    "        return list(set(data[self.Class]))[0]\n",
    "    \n",
    "    def constructSubtree(self,data,attribute_list):\n",
    "        child = Node()\n",
    "        #print(\"child\",child.attribute)\n",
    "        child.attribute = self.chooseNode(data,attribute_list)\n",
    "        #print(\"child\",child.attribute)\n",
    "        \n",
    "        child.branches = self.getAttributeValues(child.attribute)\n",
    "        child.isLeaf = self.isLeafNode(data)\n",
    "        partitions = self.partition(data,child.attribute)\n",
    "        #print(\"partitions\",partitions)\n",
    "        if child.isLeaf:\n",
    "            child.ClassLabel = self.getClassLabel(data)\n",
    "           # print(\"label\",child.ClassLabel)\n",
    "            \n",
    "        else:\n",
    "            for partition in partitions:\n",
    "                attribute_listN = attribute_list[:]\n",
    "                attribute_listN.remove(child.attribute)\n",
    "                child.children.append(self.constructSubtree(partition,attribute_listN))\n",
    "        return child\n",
    "                \n",
    "            \n",
    "    def constructTree(self):\n",
    "        self.root = Node()\n",
    "        self.root.attribute = self.chooseNode(self.train_data,self.attributes)\n",
    "        self.root.branches = self.getAttributeValues(self.root.attribute)\n",
    "        self.root.isLeaf = self.isLeafNode(self.train_data)\n",
    "        partitions = self.partition(self.train_data,self.root.attribute)\n",
    "        if self.root.isLeaf:\n",
    "            self.root.ClassLabel = self.getClassLabel(self.train_data)\n",
    "        else:\n",
    "            for partition in partitions:\n",
    "                attribute_list = self.attributes[:]\n",
    "                attribute_list.remove(self.root.attribute)\n",
    "                self.root.children.append(self.constructSubtree(partition,attribute_list))\n",
    "    def parseTree(self,node):\n",
    "        if node.children != []:\n",
    "            for i in range(len(node.children)):\n",
    "                child = node.children[i]\n",
    "                print(node.branches[i])\n",
    "                if child.isLeaf:\n",
    "                    print(child.ClassLabel)\n",
    "                else:\n",
    "                    print(child.attribute)\n",
    "                self.parseTree(child)\n",
    "    def parseTreeHelper(self):\n",
    "        print(20*' /'+self.root.attribute+20*'/')\n",
    "        #print(self.root.attribute)\n",
    "        self.parseTree(self.root)\n",
    "        \n",
    "        \n",
    "                \n",
    "            \n",
    "if __name__ == '__main__':\n",
    "    classifier = DecisionTree(data)\n",
    "    attributeList = list(data.columns)\n",
    "    classifier.constructTree()\n",
    "    classifier.parseTreeHelper()\n",
    "        \n",
    "        \n",
    "        \n",
    "        \n",
    "        \n",
    "    \n",
    "    \n",
    "    \n",
    "    \n",
    "    \n",
    "    \n",
    "    \n",
    "    \n",
    "    \n",
    "    "
   ]
  },
  {
   "cell_type": "code",
   "execution_count": null,
   "metadata": {},
   "outputs": [],
   "source": []
  }
 ],
 "metadata": {
  "kernelspec": {
   "display_name": "Python 3",
   "language": "python",
   "name": "python3"
  },
  "language_info": {
   "codemirror_mode": {
    "name": "ipython",
    "version": 3
   },
   "file_extension": ".py",
   "mimetype": "text/x-python",
   "name": "python",
   "nbconvert_exporter": "python",
   "pygments_lexer": "ipython3",
   "version": "3.6.5"
  }
 },
 "nbformat": 4,
 "nbformat_minor": 2
}
