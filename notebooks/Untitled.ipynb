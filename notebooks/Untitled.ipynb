{
 "cells": [
  {
   "cell_type": "code",
   "execution_count": 44,
   "metadata": {},
   "outputs": [],
   "source": [
    "\n",
    "import pandas as pd\n",
    "import numpy as np\n",
    "from collections import Counter\n",
    "\n",
    "class NaiveBayes:\n",
    "    def __init__(self,dataset):\n",
    "        self.__dataset = dataset\n",
    "        self.__classAttribute = list(self.__dataset.keys())[-1]\n",
    "        self.__classes = list(set(self.__dataset[self.__classAttribute]))\n",
    "        self.__attributes = list(self.__dataset.keys())[:-1]\n",
    "        self.__classProbabilites = dict()\n",
    "        \n",
    "        \n",
    "        \n",
    "        \n",
    "    def train(self):\n",
    "        self.__classCounts = dict(Counter(self.__dataset[self.__classAttribute]))\n",
    "        self.__featureProbabilites = {}\n",
    "        self.__initClassProbabilities()\n",
    "        self.__initFeatureProbabilites()\n",
    "        \n",
    "        \n",
    "    \n",
    "    def __initClassProbabilities(self):\n",
    "        counts = dict(Counter(self.__dataset[self.__classAttribute]))\n",
    "        totalNumberOfTuples = sum(counts.values())\n",
    "        self.__classProbabilites = {key:self.__getProbability(counts[key],totalNumberOfTuples) for key in counts.keys()}\n",
    "        \n",
    "    \n",
    "    \n",
    "\n",
    "    def __initFeatureProbabilites(self):\n",
    "        for attribute in self.__attributes:\n",
    "            data = {}\n",
    "            attributeCounts = len(self.__getAttributeValues(attribute))#for laplace correction\n",
    "            for attributeValue in self.__getAttributeValues(attribute):\n",
    "                probabilities = {}\n",
    "                for classValue in self.__classes:\n",
    "                    probability = self.__getProbability(1+self.__getCounts((attribute,attributeValue),(self.__classAttribute,classValue)),attributeCounts+self.__classCounts[classValue])\n",
    "                    probabilities[classValue] = probability\n",
    "                data[attributeValue] = probabilities\n",
    "            self.__featureProbabilites[attribute] = data\n",
    "        return self.__featureProbabilites\n",
    "        \n",
    "    def __getAttributeValues(self,attribute):\n",
    "        return list(set(self.__dataset[attribute]))\n",
    "    \n",
    "    def getAttributes(self):\n",
    "        return self.__attributes\n",
    "                \n",
    "    \n",
    "    def __getCounts(self,tuple1,tuple2):\n",
    "        return len(self.__dataset[(self.__dataset[tuple1[0]] == tuple1[1]) & (self.__dataset[tuple2[0]] == tuple2[1])])\n",
    "        \n",
    "    def __getProbability(self,n,N):\n",
    "        return n/N\n",
    "\n",
    "    def __getClassProbabilities(self):\n",
    "        return self.__classProbabilites\n",
    "    \n",
    "    def __getFeatureProbabilities(self):\n",
    "        return self.__featureProbabilites\n",
    "    \n",
    "    def getClassProbabilities(self):\n",
    "        return self.__classProbabilites\n",
    "    \n",
    "    def getFeatureProbabilities(self):\n",
    "        return self.__featureProbabilites\n",
    "    \n",
    "    def predict(self,featureDictionary):\n",
    "        probabilitesOfClasses = []\n",
    "        for classValue in self.__classes:\n",
    "            probability = 1\n",
    "            for key,value in featureDictionary.items():\n",
    "                probability*= self.__featureProbabilites[key][value][classValue]\n",
    "            \n",
    "            probability *=self.__classProbabilites[classValue]\n",
    "        \n",
    "            probabilitesOfClasses.append(probability)\n",
    "        \n",
    "        return self.__classes[np.argmax(probabilitesOfClasses)]\n",
    "    \n",
    "\n"
   ]
  },
  {
   "cell_type": "code",
   "execution_count": 45,
   "metadata": {},
   "outputs": [],
   "source": [
    "data = pd.read_csv('../datasets/balance.data',sep=',')"
   ]
  },
  {
   "cell_type": "code",
   "execution_count": 46,
   "metadata": {},
   "outputs": [],
   "source": [
    "columns = ['class','left-weight','left-distance','right-weight','right-distance']\n",
    "data.columns = columns\n",
    "newColumn = ['left-weight','left-distance','right-weight','right-distance','class']\n",
    "data = data[newColumn]"
   ]
  },
  {
   "cell_type": "code",
   "execution_count": 47,
   "metadata": {},
   "outputs": [],
   "source": [
    "classifier = NaiveBayes(data)"
   ]
  },
  {
   "cell_type": "code",
   "execution_count": 48,
   "metadata": {},
   "outputs": [],
   "source": [
    "classifier.train()"
   ]
  },
  {
   "cell_type": "code",
   "execution_count": 49,
   "metadata": {},
   "outputs": [],
   "source": [
    "testData = data.sample(frac=1).reset_index(drop=True)"
   ]
  },
  {
   "cell_type": "code",
   "execution_count": 50,
   "metadata": {},
   "outputs": [],
   "source": [
    "def getDataDictionary(classifierHere,data):\n",
    "    dictionary = {}\n",
    "    for key,value in zip(classifierHere.getAttributes(),data):\n",
    "        dictionary[key] = value\n",
    "    \n",
    "    return dictionary"
   ]
  },
  {
   "cell_type": "code",
   "execution_count": 66,
   "metadata": {},
   "outputs": [],
   "source": [
    "def verifier(x,y):\n",
    "    return x == y\n",
    "\n",
    "def test(data):\n",
    "    predictions = []\n",
    "    trueClasses = data['class']\n",
    "    for i in range(len(data)):\n",
    "        features = getDataDictionary(classifier,list(dict(data.iloc[i]).values())[:-1])\n",
    "        predictions.append(classifier.predict(features))\n",
    "    accurates = 0\n",
    "    for prediction,trueValue in zip(predictions,trueClasses):\n",
    "        if verifier(prediction,trueValue):\n",
    "            accurates+=1\n",
    "    return predictions,100*(accurates/len(data))\n",
    "    "
   ]
  },
  {
   "cell_type": "code",
   "execution_count": 70,
   "metadata": {},
   "outputs": [],
   "source": [
    "predictions,accuracy = test(testData)"
   ]
  },
  {
   "cell_type": "code",
   "execution_count": 71,
   "metadata": {},
   "outputs": [
    {
     "data": {
      "text/plain": [
       "92.3076923076923"
      ]
     },
     "execution_count": 71,
     "metadata": {},
     "output_type": "execute_result"
    }
   ],
   "source": [
    "accuracy"
   ]
  },
  {
   "cell_type": "code",
   "execution_count": null,
   "metadata": {},
   "outputs": [],
   "source": []
  }
 ],
 "metadata": {
  "kernelspec": {
   "display_name": "Python 3",
   "language": "python",
   "name": "python3"
  },
  "language_info": {
   "codemirror_mode": {
    "name": "ipython",
    "version": 3
   },
   "file_extension": ".py",
   "mimetype": "text/x-python",
   "name": "python",
   "nbconvert_exporter": "python",
   "pygments_lexer": "ipython3",
   "version": "3.6.5"
  }
 },
 "nbformat": 4,
 "nbformat_minor": 2
}
