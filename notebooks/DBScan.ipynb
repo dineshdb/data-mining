{
 "cells": [
  {
   "cell_type": "code",
   "execution_count": 1,
   "metadata": {},
   "outputs": [],
   "source": [
    "def find_neighbours(points, point, eps):\n",
    "    neighbors = []\n",
    "    for Pn in range(0, len(points)):\n",
    "        given_point = points[point][0:-1]\n",
    "        neighbouring_point = points[Pn]\n",
    "        distance = numpy.linalg.norm(points[point][0:-1] - points[Pn][0:-1])\n",
    "        if distance < eps:\n",
    "            neighbors.append(Pn)\n",
    "\n",
    "    return neighbors\n",
    "\n",
    "def grow_cluster(data, labels, point, current_cluster_label, eps, min_points):\n",
    "    search_queue = [point]\n",
    "    # For each point in the queue:\n",
    "    #   - Determine whether it is a branch or a leaf\n",
    "    #   - For branch points, add their unclaimed neighbors to the search queue\n",
    "    i = 0\n",
    "    while i < len(search_queue):\n",
    "        point = search_queue[i]\n",
    "        neighbours = find_neighbours(data, point, eps)\n",
    "        \n",
    "        # leaf point, move on\n",
    "        if len(neighbours) < min_points:\n",
    "            i += 1\n",
    "            continue\n",
    "                   \n",
    "        for Pn in neighbours:\n",
    "            if labels[Pn] == -1:\n",
    "               # Noise, can't be branch\n",
    "               labels[Pn] = current_cluster_label\n",
    "\n",
    "            elif labels[Pn] == 0:\n",
    "                labels[Pn] = current_cluster_label\n",
    "                search_queue.append(Pn)\n",
    "        i += 1\n",
    "\n",
    "def DBSCAN(points, eps, MinPts):\n",
    "    labels = [0]*len(points)\n",
    "    current_cluster_label = 0\n",
    "\n",
    "    # Pick a random point, check if it is valid seed point and grow a new cluster\n",
    "    # out of it if it is.  \n",
    "     \n",
    "    for point in range(0, len(points)):    \n",
    "        if not (labels[point] == 0):\n",
    "           continue\n",
    "        \n",
    "        neighbours = find_neighbours(points, point, eps)\n",
    "\n",
    "        if len(neighbours) < MinPts:\n",
    "            labels[point] = -1 # noise\n",
    "            continue\n",
    "\n",
    "        current_cluster_label += 1         \n",
    "        labels[point] = current_cluster_label\n",
    "        grow_cluster(points, labels, point, current_cluster_label, eps, MinPts)\n",
    "    \n",
    "    return labels"
   ]
  },
  {
   "cell_type": "code",
   "execution_count": 6,
   "metadata": {},
   "outputs": [
    {
     "name": "stdout",
     "output_type": "stream",
     "text": [
      "[1, 1, 1, 1, 1, 2, 1, 1, 1, 1, 1, 1, 1, 1, 3, 4, 5, 1, 6, 1, 7, 1, 8, 1, 1, 1, 1, 1, 1, 1, 1, 7, 9, 10, 1, 1, 11, 1, 1, 1, 1, 12, 1, 1, 13, 1, 1, 1, 1, 1, 14, 15, 14, 16, 17, 18, 15, 19, 17, 20, 21, 22, 23, 24, 25, 17, 26, 16, 27, 16, 28, 29, 30, 24, 17, 17, 31, 32, 24, 33, 16, 16, 16, 34, 26, 35, 14, 27, 16, 16, 16, 24, 16, 19, 16, 16, 16, 17, 36, 16, 37, 38, 39, 40, 41, 42, 43, 44, 45, 46, 47, 48, 49, 38, 50, 51, 40, 52, 53, 54, 55, 56, 42, 28, 55, 57, 28, 28, 58, 59, 44, 60, 58, 61, 62, 63, 64, 40, 28, 49, 55, 65, 38, 55, 55, 65, 28, 47, 64]\n"
     ]
    }
   ],
   "source": [
    "import pandas as pd\n",
    "import numpy as np\n",
    "\n",
    "columns = ['SepalLength', 'SepalWidth', 'PetalLength', 'PetalWidth', 'Name']\n",
    "dataset = pd.read_csv(\"../datasets/iris.csv\", delimiter=',', names=columns)\n",
    "df = pd.DataFrame(dataset[1:-1], columns = columns)\n",
    "df = df.astype({'SepalLength':'float64', 'SepalWidth':'float64', 'PetalLength':'float64', 'PetalWidth':'float64'})\n",
    "data = np.array(df)\n",
    "#print(dataset[1:-1])\n",
    "cluster = DBSCAN(data, 0.3, 1)\n",
    "print(cluster)"
   ]
  }
 ],
 "metadata": {
  "kernelspec": {
   "display_name": "Python 3",
   "language": "python",
   "name": "python3"
  },
  "language_info": {
   "codemirror_mode": {
    "name": "ipython",
    "version": 3
   },
   "file_extension": ".py",
   "mimetype": "text/x-python",
   "name": "python",
   "nbconvert_exporter": "python",
   "pygments_lexer": "ipython3",
   "version": "3.7.2"
  }
 },
 "nbformat": 4,
 "nbformat_minor": 2
}
