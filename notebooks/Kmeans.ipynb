{
 "cells": [
  {
   "cell_type": "markdown",
   "metadata": {},
   "source": [
    "## K-Means Clustering \n",
    "1. Choose the number of clusters(K) and obtain the data points \n",
    "2. Place the centroids c_1, c_2, ..... c_k randomly \n",
    "3. Repeat steps 4 and 5 until convergence or until the end of a fixed number of iterations\n",
    "4. for each data point x_i:\n",
    "       - find the nearest centroid(c_1, c_2 .. c_k) \n",
    "       - assign the point to that cluster \n",
    "5. for each cluster j = 1..k\n",
    "       - new centroid = mean of all points assigned to that cluster\n",
    "6. End "
   ]
  },
  {
   "cell_type": "code",
   "execution_count": 84,
   "metadata": {},
   "outputs": [],
   "source": [
    "import numpy as np\n",
    "import random\n",
    "\n",
    "def dist(a, b):\n",
    "    return np.linalg.norm(a - b)\n",
    "\n",
    "def nearest_cluster(centroids, point):\n",
    "\t\tdistances = []\n",
    "\t\tfor centroid in centroids:\n",
    "\t\t\tdistances.append(dist(centroid, point))\n",
    "\t\treturn distances.index(min(distances))\n",
    "\t\t\n",
    "def KMeans(data, k = 3):\n",
    "\tcentroids = []\n",
    "\tfor i in range(0, k):\n",
    "\t\tc = [float(np.random.randint(4,8)),float(np.random.randint(1,5)),\n",
    "\t\t\tfloat(np.random.randint(1,7)),float(np.random.randint(0,3))]\n",
    "\t\tcentroids.append(c)\n",
    "\n",
    "\tepochs = 1\n",
    "\twhile(epochs <= 100):\n",
    "\t\tclusters = [ [] for i in range(0, k)]\n",
    "\n",
    "\t\tfor point in data:\n",
    "\t\t\tpos = nearest_cluster(centroids, point)\n",
    "\t\t\tclusters[pos].append(point)\n",
    "\n",
    "\t\tprevious_centroids = centroids.copy()\n",
    "\t\t\n",
    "\t\tfor c in range(0, len(clusters)):\n",
    "\t\t\tcluster = clusters[c]\n",
    "\t\t\tif len(cluster) != 0:\n",
    "\t\t\t\tcluster = np.array(cluster)\n",
    "\t\t\t\tcentroid = [ ]\n",
    "\t\t\t\tfor i in range(0, len(cluster[0])):\n",
    "\t\t\t\t\ts = sum(cluster[:, i])\n",
    "\t\t\t\t\tcentroid.append(s / float(len(cluster)))\n",
    "\t\t\t\tcentroids[c] = centroid\n",
    "\n",
    "\t\tif dist(np.array(centroids), np.array(previous_centroids)) == 0:\n",
    "\t\t\tprint(\"Converged in \" + str(epochs))\n",
    "\t\t\tbreak\n",
    "\t\tepochs += 1\n",
    "\treturn centroids"
   ]
  },
  {
   "cell_type": "code",
   "execution_count": 85,
   "metadata": {},
   "outputs": [
    {
     "name": "stdout",
     "output_type": "stream",
     "text": [
      "Converged in 5\n",
      "[1, 1, 2, 2, 2, 1, 0, 2, 1, 2, 0, 0, 1, 2, 1]\n",
      "0.422643406413528\n"
     ]
    }
   ],
   "source": [
    "import pandas as pd\n",
    "import numpy as np\n",
    "from sklearn.utils import shuffle\n",
    "from sklearn.metrics import silhouette_score\n",
    "import matplotlib.pyplot as plt\n",
    "\n",
    "df = pd.read_csv('../datasets/iris.csv') \n",
    "classes = df['Name']  \n",
    "df = df.drop(['Name'],axis=1) \n",
    "data = df.values.tolist() \n",
    "data = np.array(data)\n",
    "data,classes = shuffle(data,classes) \n",
    "train_data = data[:135]  \n",
    "test_data = data[135:]\n",
    " \n",
    "clusters = KMeans(train_data, 3)\n",
    "\n",
    "pred = []\n",
    "for point in test_data:\n",
    "\tdistances = []\n",
    "\tfor centroid in clusters:\n",
    "\t\tdistances.append(dist(centroid, point))\n",
    "\n",
    "\tpos = distances.index(min(distances))\n",
    "\tpred.append(pos)\n",
    "\n",
    "print(pred)\n",
    "score = silhouette_score(test_data, pred)\n",
    "print(score)"
   ]
  }
 ],
 "metadata": {
  "kernelspec": {
   "display_name": "Python 3",
   "language": "python",
   "name": "python3"
  },
  "language_info": {
   "codemirror_mode": {
    "name": "ipython",
    "version": 3
   },
   "file_extension": ".py",
   "mimetype": "text/x-python",
   "name": "python",
   "nbconvert_exporter": "python",
   "pygments_lexer": "ipython3",
   "version": "3.7.2"
  }
 },
 "nbformat": 4,
 "nbformat_minor": 2
}
