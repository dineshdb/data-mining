{
 "cells": [
  {
   "cell_type": "code",
   "execution_count": 361,
   "metadata": {},
   "outputs": [],
   "source": [
    "\n",
    "import pandas as pd\n",
    "import numpy as np\n",
    "from collections import Counter\n",
    "import matplotlib.pyplot as plt\n",
    "\n",
    "class NaiveBayes:\n",
    "    def __init__(self,dataset):\n",
    "        self.__dataset = dataset\n",
    "        self.__classAttribute = list(self.__dataset.keys())[-1]\n",
    "        self.__classes = list(set(self.__dataset[self.__classAttribute]))\n",
    "        self.__attributes = list(self.__dataset.keys())[:-1]\n",
    "        self.__classProbabilites = dict()\n",
    "    \n",
    "   \n",
    "        \n",
    "    def train(self):\n",
    "        self.__classCounts = dict(Counter(self.__dataset[self.__classAttribute]))\n",
    "        self.__featureProbabilites = {}\n",
    "        self.__initClassProbabilities()\n",
    "        self.__initFeatureProbabilites()\n",
    "            \n",
    "    \n",
    "    def __initClassProbabilities(self):\n",
    "        counts = dict(Counter(self.__dataset[self.__classAttribute]))\n",
    "        totalNumberOfTuples = sum(counts.values())\n",
    "        self.__classProbabilites = {key:self.__getProbability(counts[key],totalNumberOfTuples) for key in counts.keys()}\n",
    "        \n",
    "    \n",
    "    \n",
    "\n",
    "    def __initFeatureProbabilites(self):\n",
    "        for attribute in self.__attributes:\n",
    "            data = {}\n",
    "            attributeCounts = len(self.__getAttributeValues(attribute))#for laplace correction\n",
    "            for attributeValue in self.__getAttributeValues(attribute):\n",
    "                probabilities = {}\n",
    "                for classValue in self.__classes:\n",
    "                    probability = self.__getProbability(1+self.__getCounts((attribute,attributeValue),(self.__classAttribute,classValue)),attributeCounts+self.__classCounts[classValue])\n",
    "                    probabilities[classValue] = probability\n",
    "                data[attributeValue] = probabilities\n",
    "            self.__featureProbabilites[attribute] = data\n",
    "        return self.__featureProbabilites\n",
    "        \n",
    "    def __getAttributeValues(self,attribute):\n",
    "        return list(set(self.__dataset[attribute]))\n",
    "    \n",
    "    def getAttributes(self):\n",
    "        return self.__attributes\n",
    "                \n",
    "    \n",
    "    def __getCounts(self,tuple1,tuple2):\n",
    "        return len(self.__dataset[(self.__dataset[tuple1[0]] == tuple1[1]) & (self.__dataset[tuple2[0]] == tuple2[1])])\n",
    "        \n",
    "    def __getProbability(self,n,N):\n",
    "        return n/N\n",
    "\n",
    "    def __getClassProbabilities(self):\n",
    "        return self.__classProbabilites\n",
    "    \n",
    "    def getClassProbabilities(self):\n",
    "        return self.__classProbabilites\n",
    "    \n",
    "    def __getFeatureProbabilities(self):\n",
    "        return self.__featureProbabilites\n",
    "    \n",
    "    def getClassProbabilities(self):\n",
    "        \n",
    "        return self.__classProbabilites\n",
    "    \n",
    "    def getFeatureProbabilities(self):\n",
    "        return self.__featureProbabilites\n",
    "    \n",
    "    def predict(self,featureDictionary):\n",
    "        probabilitesOfClasses = []\n",
    "        for classValue in self.__classes:\n",
    "            probability = 1\n",
    "            for key,value in featureDictionary.items():\n",
    "                probability*= self.__featureProbabilites[key][value][classValue]\n",
    "            \n",
    "            probability *=self.__classProbabilites[classValue]\n",
    "        \n",
    "            probabilitesOfClasses.append(probability)\n",
    "        \n",
    "        return self.__classes[np.argmax(probabilitesOfClasses)]\n",
    "    \n",
    "\n"
   ]
  },
  {
   "cell_type": "code",
   "execution_count": 362,
   "metadata": {},
   "outputs": [],
   "source": [
    "class NaiveBayesTest:\n",
    "    \n",
    "    def __init__(self,dataset):\n",
    "        self.__dataset = dataset\n",
    "        \n",
    "    def getDataDictionary(self,classifierHere,data):\n",
    "        dictionary = {}\n",
    "        for key,value in zip(classifierHere.getAttributes(),data):\n",
    "            dictionary[key] = value\n",
    "    \n",
    "        return dictionary\n",
    "        \n",
    "    def verifier(self,x,y):\n",
    "        return x == y\n",
    "\n",
    "    def test(self,data,classifier):\n",
    "        predictions = []\n",
    "        trueClasses = data['class']\n",
    "        for i in range(len(data)):\n",
    "            features = self.getDataDictionary(classifier,list(dict(data.iloc[i]).values())[:-1])\n",
    "            predictions.append(classifier.predict(features))\n",
    "        accurates = 0\n",
    "        for prediction,trueValue in zip(predictions,trueClasses):\n",
    "            if self.verifier(prediction,trueValue):\n",
    "                accurates+=1\n",
    "        return predictions,100*(accurates/len(data))\n",
    "    \n",
    "    \n",
    "    def crossValidatation(self,k):\n",
    "        size = len(self.__dataset)//k\n",
    "        accuracies = []\n",
    "        for i in range(k):\n",
    "            dataframe_copy = self.__dataset.copy()\n",
    "            train,testData = dataframe_copy.drop(dataframe_copy.index[i*size:(i*size)+size+1]),self.__dataset.iloc[i*size:(i*size)+size+1]\n",
    "            testClassifier = NaiveBayes(train)\n",
    "            testClassifier.train()\n",
    "            accuracies.append(self.test(testData,testClassifier)[1])\n",
    "        return accuracies,sum(accuracies)/k\n",
    "    \n",
    "    def predictedDistribution(self,classifier):\n",
    "        return self.test(self.__dataset,classifier)[0]\n",
    "        \n",
    "    \n",
    "        \n",
    "   \n",
    "    \n",
    "            "
   ]
  },
  {
   "cell_type": "code",
   "execution_count": 363,
   "metadata": {},
   "outputs": [],
   "source": [
    "def plotBar(dataX,dataY,xlabel,ylabel,title):\n",
    "    plt.bar(dataX,dataY)\n",
    "    plt.xlabel=xlabel\n",
    "    plt.ylabel=ylabel\n",
    "    plt.title= title\n",
    "    plt.show()"
   ]
  },
  {
   "cell_type": "code",
   "execution_count": 364,
   "metadata": {},
   "outputs": [],
   "source": [
    "data = pd.read_csv('../datasets/balance.data',sep=',')\n",
    "columns = ['class','left-weight','left-distance','right-weight','right-distance']\n",
    "data.columns = columns\n",
    "newColumn = ['left-weight','left-distance','right-weight','right-distance','class']\n",
    "data = data[newColumn]"
   ]
  },
  {
   "cell_type": "code",
   "execution_count": 365,
   "metadata": {},
   "outputs": [],
   "source": [
    "Test = NaiveBayesTest(data)\n"
   ]
  },
  {
   "cell_type": "code",
   "execution_count": 366,
   "metadata": {},
   "outputs": [],
   "source": [
    "accuracies,average = Test.crossValidatation(10) #10 folds used"
   ]
  },
  {
   "cell_type": "code",
   "execution_count": 367,
   "metadata": {},
   "outputs": [
    {
     "data": {
      "image/png": "[encoded data removed]",
      "text/plain": [
       "<Figure size 432x288 with 1 Axes>"
      ]
     },
     "metadata": {},
     "output_type": "display_data"
    }
   ],
   "source": [
    "plotBar(list(range(0,len(accuracies),1)),accuracies,\"fold\",\"Accuracy\",\"Accuracy Plot for cross validation\")\n"
   ]
  },
  {
   "cell_type": "code",
   "execution_count": 368,
   "metadata": {},
   "outputs": [],
   "source": [
    "Classifer = NaiveBayes(data)"
   ]
  },
  {
   "cell_type": "code",
   "execution_count": 369,
   "metadata": {},
   "outputs": [
    {
     "data": {
      "image/png": "[encoded data removed]",
      "text/plain": [
       "<Figure size 432x288 with 1 Axes>"
      ]
     },
     "metadata": {},
     "output_type": "display_data"
    }
   ],
   "source": [
    "Classifer.train()\n",
    "distribution = dict(Classifer.getClassProbabilities())\n",
    "k,v = list(distribution.keys()),list(distribution.values())\n",
    "plotBar(k,v,\"class\",\"probability\",\"Probability Distribution\")\n"
   ]
  },
  {
   "cell_type": "code",
   "execution_count": 370,
   "metadata": {},
   "outputs": [],
   "source": [
    "testOnTraining = Test.predictedDistribution(Classifer)"
   ]
  },
  {
   "cell_type": "code",
   "execution_count": 371,
   "metadata": {},
   "outputs": [
    {
     "data": {
      "text/plain": [
       "<BarContainer object of 2 artists>"
      ]
     },
     "execution_count": 371,
     "metadata": {},
     "output_type": "execute_result"
    },
    {
     "data": {
      "image/png": "[encoded data removed]",
      "text/plain": [
       "<Figure size 432x288 with 1 Axes>"
      ]
     },
     "metadata": {},
     "output_type": "display_data"
    }
   ],
   "source": [
    "from collections import Counter\n",
    "total = sum(Counter(testOnTraining).values())\n",
    "distribution = {key:value/total for key,value in Counter(testOnTraining).items()}\n",
    "k,v = list(distribution.keys()),list(distribution.values())\n",
    "plt.bar(k,v)"
   ]
  },
  {
   "cell_type": "code",
   "execution_count": null,
   "metadata": {},
   "outputs": [],
   "source": []
  },
  {
   "cell_type": "code",
   "execution_count": null,
   "metadata": {},
   "outputs": [],
   "source": []
  }
 ],
 "metadata": {
  "kernelspec": {
   "display_name": "Python 3",
   "language": "python",
   "name": "python3"
  },
  "language_info": {
   "codemirror_mode": {
    "name": "ipython",
    "version": 3
   },
   "file_extension": ".py",
   "mimetype": "text/x-python",
   "name": "python",
   "nbconvert_exporter": "python",
   "pygments_lexer": "ipython3",
   "version": "3.6.5"
  }
 },
 "nbformat": 4,
 "nbformat_minor": 2
}
