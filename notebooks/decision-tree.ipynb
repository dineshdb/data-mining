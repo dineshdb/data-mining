{
 "cells": [
  {
   "cell_type": "code",
   "execution_count": 2,
   "metadata": {},
   "outputs": [],
   "source": [
    "import csv\n",
    "import random"
   ]
  },
  {
   "cell_type": "code",
   "execution_count": 3,
   "metadata": {},
   "outputs": [],
   "source": [
    "# define the training data\n",
    "# training_data = [\n",
    "#     ['Green', 3, 'Apple'],\n",
    "#     ['Yellow', 3, 'Apple'],\n",
    "#     ['Red', 1, 'Grape'],\n",
    "#     ['Red', 1, 'Grape'],\n",
    "#     ['Yellow', 3, 'Lemon'],\n",
    "# ]"
   ]
  },
  {
   "cell_type": "code",
   "execution_count": 4,
   "metadata": {},
   "outputs": [],
   "source": [
    "csv_data = []\n",
    "\n",
    "with open('../datasets/iris.csv') as csv_file:\n",
    "    readCSV = csv.reader(csv_file, delimiter=\",\")\n",
    "    for row in readCSV:\n",
    "        csv_data.append(row)"
   ]
  },
  {
   "cell_type": "code",
   "execution_count": 5,
   "metadata": {},
   "outputs": [],
   "source": [
    "header = csv_data[0]\n",
    "\n",
    "training_data = []\n",
    "for i in range(1, len(csv_data)):\n",
    "    train_row = [float(csv_data[i][j]) for j in range(len(csv_data[0]) - 1)]\n",
    "    train_row.append(csv_data[i][-1])\n",
    "    \n",
    "    training_data.append(train_row)"
   ]
  },
  {
   "cell_type": "code",
   "execution_count": 6,
   "metadata": {},
   "outputs": [
    {
     "name": "stdout",
     "output_type": "stream",
     "text": [
      "[5.1, 3.5, 1.4, 0.2, 'Iris-setosa']\n",
      "115\n",
      "[5.8, 2.7, 5.1, 1.9, 'Iris-virginica']\n",
      "35\n"
     ]
    }
   ],
   "source": [
    "# splitting the training and testing data\n",
    "idx = list(range(len(training_data)))\n",
    "    \n",
    "random.seed(7382)\n",
    "random.shuffle(idx)\n",
    "    \n",
    "train_size = int(0.77 * len(training_data))\n",
    "test_size = len(training_data) - train_size\n",
    "\n",
    "train_idx = idx[:train_size] \n",
    "test_idx = idx[train_size:]\n",
    "    \n",
    "train_data = [training_data[i] for i in train_idx]\n",
    "test_data = [training_data[i] for i in test_idx]\n",
    "\n",
    "print(train_data[0])\n",
    "print(len(train_data))\n",
    "print(test_data[0])\n",
    "print(len(test_data))"
   ]
  },
  {
   "cell_type": "code",
   "execution_count": 7,
   "metadata": {},
   "outputs": [
    {
     "name": "stdout",
     "output_type": "stream",
     "text": [
      "115\n",
      "5\n",
      "[[5.1, 3.5, 1.4, 0.2, 'Iris-setosa'], [6.2, 2.8, 4.8, 1.8, 'Iris-virginica'], [6.3, 2.9, 5.6, 1.8, 'Iris-virginica'], [5.6, 3.0, 4.1, 1.3, 'Iris-versicolor'], [4.9, 2.4, 3.3, 1.0, 'Iris-versicolor']]\n"
     ]
    }
   ],
   "source": [
    "print(len(train_data))\n",
    "print(len(train_data[0]))\n",
    "print(train_data[:5][:])"
   ]
  },
  {
   "cell_type": "code",
   "execution_count": 8,
   "metadata": {},
   "outputs": [],
   "source": [
    "# the column names for the data\n",
    "# header = [\"color\", \"diameter\", \"label\"]"
   ]
  },
  {
   "cell_type": "code",
   "execution_count": 9,
   "metadata": {},
   "outputs": [
    {
     "data": {
      "text/plain": [
       "['SepalLength', 'SepalWidth', 'PetalLength', 'PetalWidth', 'Name']"
      ]
     },
     "execution_count": 9,
     "metadata": {},
     "output_type": "execute_result"
    }
   ],
   "source": [
    "header"
   ]
  },
  {
   "cell_type": "code",
   "execution_count": 10,
   "metadata": {},
   "outputs": [],
   "source": [
    "def unique_vals(rows, col):\n",
    "    \"\"\"\n",
    "    Find unique values in a column\n",
    "    \"\"\"\n",
    "    return set([row[col] for row in rows])"
   ]
  },
  {
   "cell_type": "code",
   "execution_count": 11,
   "metadata": {},
   "outputs": [
    {
     "data": {
      "text/plain": [
       "{2.2,\n",
       " 2.3,\n",
       " 2.4,\n",
       " 2.5,\n",
       " 2.6,\n",
       " 2.7,\n",
       " 2.8,\n",
       " 2.9,\n",
       " 3.0,\n",
       " 3.1,\n",
       " 3.2,\n",
       " 3.3,\n",
       " 3.4,\n",
       " 3.5,\n",
       " 3.6,\n",
       " 3.7,\n",
       " 3.8,\n",
       " 3.9,\n",
       " 4.0,\n",
       " 4.1,\n",
       " 4.2,\n",
       " 4.4}"
      ]
     },
     "execution_count": 11,
     "metadata": {},
     "output_type": "execute_result"
    }
   ],
   "source": [
    "unique_vals(train_data, 1)"
   ]
  },
  {
   "cell_type": "code",
   "execution_count": 12,
   "metadata": {},
   "outputs": [],
   "source": [
    "def class_counts(rows):\n",
    "    \"\"\"\n",
    "    Counts the number of each type of class in the dataset\n",
    "    \"\"\"\n",
    "    counts = {}\n",
    "    for row in rows:\n",
    "        label = row[-1]\n",
    "        if label not in counts:\n",
    "            counts[label] = 0\n",
    "        counts[label] += 1\n",
    "    return counts"
   ]
  },
  {
   "cell_type": "code",
   "execution_count": 13,
   "metadata": {},
   "outputs": [
    {
     "data": {
      "text/plain": [
       "{'Iris-setosa': 39, 'Iris-virginica': 35, 'Iris-versicolor': 41}"
      ]
     },
     "execution_count": 13,
     "metadata": {},
     "output_type": "execute_result"
    }
   ],
   "source": [
    "class_counts(train_data)"
   ]
  },
  {
   "cell_type": "code",
   "execution_count": 14,
   "metadata": {},
   "outputs": [],
   "source": [
    "def is_numeric(value):\n",
    "    \"\"\"Tests if a value is numerics\"\"\"\n",
    "    return isinstance(value, int) or isinstance(value, float)"
   ]
  },
  {
   "cell_type": "code",
   "execution_count": 15,
   "metadata": {},
   "outputs": [
    {
     "data": {
      "text/plain": [
       "True"
      ]
     },
     "execution_count": 15,
     "metadata": {},
     "output_type": "execute_result"
    }
   ],
   "source": [
    "is_numeric(89.98)"
   ]
  },
  {
   "cell_type": "code",
   "execution_count": 16,
   "metadata": {},
   "outputs": [],
   "source": [
    "class Question:\n",
    "    \"\"\"A question asked to partition the dataset\n",
    "    \n",
    "    Stores a 'column number' along with the 'column value'\n",
    "    \"\"\"\n",
    "\n",
    "    def __init__(self, column, value):\n",
    "        self.column = column\n",
    "        self.value = value\n",
    "        \n",
    "    def match(self, example):\n",
    "        # compare the feature value in question to the \n",
    "        # feature value in example\n",
    "        val = example[self.column]\n",
    "        if is_numeric(val):\n",
    "            return val >= self.value\n",
    "        else:\n",
    "            return val == self.value\n",
    "        \n",
    "    def __repr__(self):\n",
    "        # print the question in readable format\n",
    "        condition = \"==\"\n",
    "        if is_numeric(self.value):\n",
    "            condition = \">=\"\n",
    "        return \"Is %s %s %s?\" %(header[self.column], \n",
    "                               condition, str(self.value))"
   ]
  },
  {
   "cell_type": "code",
   "execution_count": 17,
   "metadata": {},
   "outputs": [
    {
     "data": {
      "text/plain": [
       "Is SepalWidth >= 3?"
      ]
     },
     "execution_count": 17,
     "metadata": {},
     "output_type": "execute_result"
    }
   ],
   "source": [
    "Question(1, 3)"
   ]
  },
  {
   "cell_type": "code",
   "execution_count": 18,
   "metadata": {},
   "outputs": [],
   "source": [
    "# Question(0, 'Green')"
   ]
  },
  {
   "cell_type": "code",
   "execution_count": 19,
   "metadata": {},
   "outputs": [],
   "source": [
    "def partitions(rows, question):\n",
    "    \"\"\"Partition the dataset into 'true rows' or \n",
    "    'false rows' based on the matching with question\n",
    "    \"\"\"\n",
    "    \n",
    "    true_rows, false_rows = [], []\n",
    "    for row in rows:\n",
    "        if question.match(row):\n",
    "            true_rows.append(row)\n",
    "        else:\n",
    "            false_rows.append(row)\n",
    "    return true_rows, false_rows"
   ]
  },
  {
   "cell_type": "code",
   "execution_count": 20,
   "metadata": {},
   "outputs": [
    {
     "data": {
      "text/plain": [
       "Is SepalWidth >= 3?"
      ]
     },
     "execution_count": 20,
     "metadata": {},
     "output_type": "execute_result"
    }
   ],
   "source": [
    "question = Question(1, 3)\n",
    "question"
   ]
  },
  {
   "cell_type": "code",
   "execution_count": 21,
   "metadata": {},
   "outputs": [],
   "source": [
    "true_rows, false_rows = partitions(train_data, question)"
   ]
  },
  {
   "cell_type": "code",
   "execution_count": 22,
   "metadata": {},
   "outputs": [
    {
     "name": "stdout",
     "output_type": "stream",
     "text": [
      "[[5.1, 3.5, 1.4, 0.2, 'Iris-setosa'], [5.6, 3.0, 4.1, 1.3, 'Iris-versicolor'], [6.0, 3.0, 4.8, 1.8, 'Iris-virginica'], [4.8, 3.1, 1.6, 0.2, 'Iris-setosa'], [6.1, 3.0, 4.6, 1.4, 'Iris-versicolor']]\n",
      "69\n"
     ]
    }
   ],
   "source": [
    "print(true_rows[:5])\n",
    "print(len(true_rows))"
   ]
  },
  {
   "cell_type": "code",
   "execution_count": 23,
   "metadata": {},
   "outputs": [
    {
     "name": "stdout",
     "output_type": "stream",
     "text": [
      "[[6.2, 2.8, 4.8, 1.8, 'Iris-virginica'], [6.3, 2.9, 5.6, 1.8, 'Iris-virginica'], [4.9, 2.4, 3.3, 1.0, 'Iris-versicolor'], [6.0, 2.2, 4.0, 1.0, 'Iris-versicolor'], [4.5, 2.3, 1.3, 0.3, 'Iris-setosa']]\n",
      "46\n"
     ]
    }
   ],
   "source": [
    "print(false_rows[:5])\n",
    "print(len(false_rows))"
   ]
  },
  {
   "cell_type": "code",
   "execution_count": 24,
   "metadata": {},
   "outputs": [],
   "source": [
    "def gini(rows):\n",
    "    \"\"\"Calculates the Gini Impurity for a list of rows\"\"\"\n",
    "    \n",
    "    counts = class_counts(rows)\n",
    "    impurity = 1\n",
    "    for lbl in counts:\n",
    "        prob_lbl = counts[lbl] / float(len(rows))\n",
    "        impurity -= prob_lbl**2\n",
    "    return impurity"
   ]
  },
  {
   "cell_type": "code",
   "execution_count": 25,
   "metadata": {},
   "outputs": [
    {
     "data": {
      "text/plain": [
       "0.31999999999999984"
      ]
     },
     "execution_count": 25,
     "metadata": {},
     "output_type": "execute_result"
    }
   ],
   "source": [
    "mixed_dataset = [['Iris-versicolor'],\n",
    "                  ['Iris-versicolor'],\n",
    "                  ['Iris-setosa'],\n",
    "                  ['Iris-versicolor'],\n",
    "                  ['Iris-versicolor']]\n",
    "gini(mixed_dataset)"
   ]
  },
  {
   "cell_type": "code",
   "execution_count": 26,
   "metadata": {},
   "outputs": [],
   "source": [
    "def info_gain(left, right, current_uncertainty):\n",
    "    \"\"\"\n",
    "    Calculate information gain i.e.\n",
    "    uncertainty of starting node minus the weighted impurity\n",
    "    of two child nodes\n",
    "    \"\"\"\n",
    "    p = float(len(left)) / (len(left) + len(right))\n",
    "    return current_uncertainty - p*gini(left) - (1-p)*gini(right)"
   ]
  },
  {
   "cell_type": "code",
   "execution_count": 27,
   "metadata": {},
   "outputs": [
    {
     "data": {
      "text/plain": [
       "0.6652551984877126"
      ]
     },
     "execution_count": 27,
     "metadata": {},
     "output_type": "execute_result"
    }
   ],
   "source": [
    "current_uncertainty = gini(train_data)\n",
    "current_uncertainty"
   ]
  },
  {
   "cell_type": "code",
   "execution_count": 28,
   "metadata": {},
   "outputs": [
    {
     "data": {
      "text/plain": [
       "0.08680767982280255"
      ]
     },
     "execution_count": 28,
     "metadata": {},
     "output_type": "execute_result"
    }
   ],
   "source": [
    "true_rows, false_rows = partitions(train_data, Question(0, 5))\n",
    "info_gain(true_rows, false_rows, current_uncertainty)"
   ]
  },
  {
   "cell_type": "code",
   "execution_count": 29,
   "metadata": {},
   "outputs": [
    {
     "name": "stdout",
     "output_type": "stream",
     "text": [
      "99\n",
      "[[5.1, 3.5, 1.4, 0.2, 'Iris-setosa'], [6.2, 2.8, 4.8, 1.8, 'Iris-virginica'], [6.3, 2.9, 5.6, 1.8, 'Iris-virginica'], [5.6, 3.0, 4.1, 1.3, 'Iris-versicolor'], [6.0, 2.2, 4.0, 1.0, 'Iris-versicolor']]\n"
     ]
    }
   ],
   "source": [
    "print(len(true_rows))\n",
    "print(true_rows[:5])"
   ]
  },
  {
   "cell_type": "code",
   "execution_count": 30,
   "metadata": {},
   "outputs": [
    {
     "name": "stdout",
     "output_type": "stream",
     "text": [
      "16\n",
      "[[4.9, 2.4, 3.3, 1.0, 'Iris-versicolor'], [4.5, 2.3, 1.3, 0.3, 'Iris-setosa'], [4.8, 3.1, 1.6, 0.2, 'Iris-setosa'], [4.3, 3.0, 1.1, 0.1, 'Iris-setosa'], [4.6, 3.6, 1.0, 0.2, 'Iris-setosa']]\n"
     ]
    }
   ],
   "source": [
    "print(len(false_rows))\n",
    "print(false_rows[:5])"
   ]
  },
  {
   "cell_type": "code",
   "execution_count": 31,
   "metadata": {},
   "outputs": [],
   "source": [
    "def find_best_split(rows):\n",
    "    \"\"\"\n",
    "    Find the best splitting criteria - best question\n",
    "    and the information gain\n",
    "    \"\"\"\n",
    "    \n",
    "    best_gain = 0\n",
    "    best_question = None\n",
    "    current_uncertainty = gini(rows)\n",
    "    n_features = len(rows[0]) - 1\n",
    "    \n",
    "    for col in range(n_features):\n",
    "        \n",
    "        values = set([row[col] for row in rows])\n",
    "        \n",
    "        for val in values:\n",
    "            \n",
    "            question = Question(col, val)\n",
    "            true_rows, false_rows = partitions(rows, question)        \n",
    "            \n",
    "            if len(true_rows) == 0 or len(false_rows) == 0:\n",
    "                continue # no need to split\n",
    "                \n",
    "            gain = info_gain(true_rows, false_rows, current_uncertainty)\n",
    "            \n",
    "            if gain >= best_gain:\n",
    "                best_gain, best_question = gain, question\n",
    "    \n",
    "    return best_gain, best_question"
   ]
  },
  {
   "cell_type": "code",
   "execution_count": 32,
   "metadata": {},
   "outputs": [
    {
     "data": {
      "text/plain": [
       "Is PetalWidth >= 1.0?"
      ]
     },
     "execution_count": 32,
     "metadata": {},
     "output_type": "execute_result"
    }
   ],
   "source": [
    "best_gain, best_question = find_best_split(train_data)\n",
    "best_question"
   ]
  },
  {
   "cell_type": "code",
   "execution_count": 33,
   "metadata": {},
   "outputs": [],
   "source": [
    "class Leaf:\n",
    "    \"\"\"\n",
    "    A leaf node classifies the data\n",
    "    Stores the number of times a 'class' appears in the \n",
    "    rows from the training data that reach this leaf\n",
    "    \"\"\"\n",
    "    \n",
    "    def __init__(self, rows):\n",
    "        self.predictions = class_counts(rows)"
   ]
  },
  {
   "cell_type": "code",
   "execution_count": 34,
   "metadata": {},
   "outputs": [],
   "source": [
    "class DecisionNode:\n",
    "    \"\"\"\n",
    "    A decision node asks a question\n",
    "    Holds a reference to the question\n",
    "    and to the two child nodes\n",
    "    \"\"\"\n",
    "    \n",
    "    def __init__(self, question, true_branch, false_branch):\n",
    "        self.question = question\n",
    "        self.true_branch = true_branch\n",
    "        self.false_branch = false_branch    "
   ]
  },
  {
   "cell_type": "code",
   "execution_count": 35,
   "metadata": {},
   "outputs": [],
   "source": [
    "def build_tree(rows, depth=0):\n",
    "    \"\"\"\n",
    "    Builds the tree\n",
    "    \"\"\"\n",
    "    \n",
    "    # get the gain and the question with highest gain\n",
    "    gain, question = find_best_split(rows)\n",
    "    \n",
    "    # all classes are the same\n",
    "    if gain == 0 or depth == 3:\n",
    "        return Leaf(rows)\n",
    "    \n",
    "    true_rows, false_rows = partitions(rows, question)\n",
    "    \n",
    "    # build the true subtree\n",
    "    true_branch = build_tree(true_rows, depth=depth+1)\n",
    "    \n",
    "    # build the false subtree\n",
    "    false_branch = build_tree(false_rows, depth=depth+1)\n",
    "    \n",
    "    # the Question node i.e question to ask at this node\n",
    "    return DecisionNode(question, true_branch, false_branch)"
   ]
  },
  {
   "cell_type": "code",
   "execution_count": 36,
   "metadata": {},
   "outputs": [],
   "source": [
    "def print_tree(node, spacing=\"\"):\n",
    "    \"\"\"\n",
    "    Print the tree\n",
    "    \"\"\"\n",
    "    \n",
    "    if isinstance(node, Leaf):\n",
    "        print(spacing + \"Predict\", node.predictions)\n",
    "        return\n",
    "\n",
    "    print(spacing + str(node.question))\n",
    "    \n",
    "    print(spacing + '--> True:')\n",
    "    print_tree(node.true_branch, spacing + \"  \")\n",
    "    \n",
    "    print(spacing + '--> False:')\n",
    "    print_tree(node.false_branch, spacing + \"  \")"
   ]
  },
  {
   "cell_type": "code",
   "execution_count": 37,
   "metadata": {},
   "outputs": [],
   "source": [
    "my_tree = build_tree(train_data)"
   ]
  },
  {
   "cell_type": "code",
   "execution_count": 45,
   "metadata": {},
   "outputs": [
    {
     "name": "stdout",
     "output_type": "stream",
     "text": [
      "Is PetalWidth >= 1.0?\n",
      "--> True:\n",
      "  Is PetalWidth >= 1.8?\n",
      "  --> True:\n",
      "    Is PetalLength >= 4.9?\n",
      "    --> True:\n",
      "      Predict {'Iris-virginica': 31}\n",
      "    --> False:\n",
      "      Predict {'Iris-virginica': 2, 'Iris-versicolor': 1}\n",
      "  --> False:\n",
      "    Is PetalLength >= 5.0?\n",
      "    --> True:\n",
      "      Predict {'Iris-virginica': 2, 'Iris-versicolor': 1}\n",
      "    --> False:\n",
      "      Predict {'Iris-versicolor': 39}\n",
      "--> False:\n",
      "  Predict {'Iris-setosa': 39}\n"
     ]
    }
   ],
   "source": [
    "print_tree(my_tree)"
   ]
  },
  {
   "cell_type": "code",
   "execution_count": 39,
   "metadata": {},
   "outputs": [],
   "source": [
    "def classify(row, node):\n",
    "    \"\"\"\n",
    "    classify a given test data - row\n",
    "    the root of decision tree - node\n",
    "    \"\"\"\n",
    "    \n",
    "    if isinstance(node, Leaf):\n",
    "        return node.predictions\n",
    "    \n",
    "    if node.question.match(row):\n",
    "        return classify(row, node.true_branch)\n",
    "    else:\n",
    "        return classify(row, node.false_branch)"
   ]
  },
  {
   "cell_type": "code",
   "execution_count": 40,
   "metadata": {},
   "outputs": [
    {
     "data": {
      "text/plain": [
       "{'Iris-versicolor': 39}"
      ]
     },
     "execution_count": 40,
     "metadata": {},
     "output_type": "execute_result"
    }
   ],
   "source": [
    "classify(test_data[3], my_tree)"
   ]
  },
  {
   "cell_type": "code",
   "execution_count": 41,
   "metadata": {},
   "outputs": [],
   "source": [
    "def print_leaf(counts):\n",
    "    total = sum(counts.values()) * 1.0\n",
    "    probs = {}\n",
    "    for lbl in counts.keys():\n",
    "        probs[lbl] = str(int(counts[lbl] / total * 100)) + \"%\"\n",
    "    return probs"
   ]
  },
  {
   "cell_type": "code",
   "execution_count": 42,
   "metadata": {},
   "outputs": [
    {
     "data": {
      "text/plain": [
       "{'Iris-versicolor': '100%'}"
      ]
     },
     "execution_count": 42,
     "metadata": {},
     "output_type": "execute_result"
    }
   ],
   "source": [
    "print_leaf(classify(test_data[1], my_tree))"
   ]
  },
  {
   "cell_type": "code",
   "execution_count": 43,
   "metadata": {},
   "outputs": [],
   "source": [
    "# testing_data = [\n",
    "#     ['Green', 3, 'Apple'],\n",
    "#     ['Yellow', 4, 'Apple'],\n",
    "#     ['Red', 2, 'Grape'],\n",
    "#     ['Red', 1, 'Grape'],\n",
    "#     ['Yellow', 3, 'Lemon'],\n",
    "# ]"
   ]
  },
  {
   "cell_type": "code",
   "execution_count": 44,
   "metadata": {},
   "outputs": [
    {
     "name": "stdout",
     "output_type": "stream",
     "text": [
      "Actual: Iris-virginica. Predicted: {'Iris-virginica': '100%'}\n",
      "Actual: Iris-versicolor. Predicted: {'Iris-versicolor': '100%'}\n",
      "Actual: Iris-virginica. Predicted: {'Iris-virginica': '66%', 'Iris-versicolor': '33%'}\n",
      "Actual: Iris-versicolor. Predicted: {'Iris-versicolor': '100%'}\n",
      "Actual: Iris-virginica. Predicted: {'Iris-versicolor': '100%'}\n",
      "Actual: Iris-setosa. Predicted: {'Iris-setosa': '100%'}\n",
      "Actual: Iris-virginica. Predicted: {'Iris-virginica': '100%'}\n",
      "Actual: Iris-setosa. Predicted: {'Iris-setosa': '100%'}\n",
      "Actual: Iris-versicolor. Predicted: {'Iris-versicolor': '100%'}\n",
      "Actual: Iris-versicolor. Predicted: {'Iris-versicolor': '100%'}\n",
      "Actual: Iris-virginica. Predicted: {'Iris-virginica': '66%', 'Iris-versicolor': '33%'}\n",
      "Actual: Iris-virginica. Predicted: {'Iris-virginica': '100%'}\n",
      "Actual: Iris-versicolor. Predicted: {'Iris-versicolor': '100%'}\n",
      "Actual: Iris-setosa. Predicted: {'Iris-setosa': '100%'}\n",
      "Actual: Iris-versicolor. Predicted: {'Iris-versicolor': '100%'}\n",
      "Actual: Iris-setosa. Predicted: {'Iris-setosa': '100%'}\n",
      "Actual: Iris-virginica. Predicted: {'Iris-virginica': '100%'}\n",
      "Actual: Iris-versicolor. Predicted: {'Iris-virginica': '66%', 'Iris-versicolor': '33%'}\n",
      "Actual: Iris-virginica. Predicted: {'Iris-virginica': '100%'}\n",
      "Actual: Iris-versicolor. Predicted: {'Iris-versicolor': '100%'}\n",
      "Actual: Iris-setosa. Predicted: {'Iris-setosa': '100%'}\n",
      "Actual: Iris-setosa. Predicted: {'Iris-setosa': '100%'}\n",
      "Actual: Iris-virginica. Predicted: {'Iris-virginica': '100%'}\n",
      "Actual: Iris-versicolor. Predicted: {'Iris-versicolor': '100%'}\n",
      "Actual: Iris-virginica. Predicted: {'Iris-virginica': '100%'}\n",
      "Actual: Iris-virginica. Predicted: {'Iris-virginica': '100%'}\n",
      "Actual: Iris-setosa. Predicted: {'Iris-setosa': '100%'}\n",
      "Actual: Iris-virginica. Predicted: {'Iris-virginica': '100%'}\n",
      "Actual: Iris-setosa. Predicted: {'Iris-setosa': '100%'}\n",
      "Actual: Iris-virginica. Predicted: {'Iris-virginica': '100%'}\n",
      "Actual: Iris-setosa. Predicted: {'Iris-setosa': '100%'}\n",
      "Actual: Iris-virginica. Predicted: {'Iris-virginica': '100%'}\n",
      "Actual: Iris-setosa. Predicted: {'Iris-setosa': '100%'}\n",
      "Actual: Iris-virginica. Predicted: {'Iris-virginica': '100%'}\n",
      "Actual: Iris-setosa. Predicted: {'Iris-setosa': '100%'}\n"
     ]
    }
   ],
   "source": [
    "for row in test_data:\n",
    "    print(\"Actual: %s. Predicted: %s\" %(row[-1], print_leaf(classify(row, my_tree))))"
   ]
  },
  {
   "cell_type": "code",
   "execution_count": null,
   "metadata": {},
   "outputs": [],
   "source": []
  }
 ],
 "metadata": {
  "kernelspec": {
   "display_name": "Python 3",
   "language": "python",
   "name": "python3"
  },
  "language_info": {
   "codemirror_mode": {
    "name": "ipython",
    "version": 3
   },
   "file_extension": ".py",
   "mimetype": "text/x-python",
   "name": "python",
   "nbconvert_exporter": "python",
   "pygments_lexer": "ipython3",
   "version": "3.6.8"
  }
 },
 "nbformat": 4,
 "nbformat_minor": 2
}
