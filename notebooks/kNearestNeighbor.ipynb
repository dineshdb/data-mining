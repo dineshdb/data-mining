{
 "cells": [
  {
   "cell_type": "code",
   "execution_count": 2,
   "metadata": {},
   "outputs": [
    {
     "name": "stderr",
     "output_type": "stream",
     "text": [
      "/home/mrbean/anaconda3/lib/python3.6/importlib/_bootstrap.py:219: RuntimeWarning: numpy.dtype size changed, may indicate binary incompatibility. Expected 96, got 88\n",
      "  return f(*args, **kwds)\n",
      "/home/mrbean/anaconda3/lib/python3.6/importlib/_bootstrap.py:219: RuntimeWarning: numpy.dtype size changed, may indicate binary incompatibility. Expected 96, got 88\n",
      "  return f(*args, **kwds)\n"
     ]
    }
   ],
   "source": [
    "import numpy as np\n",
    "import pandas as pd\n",
    "import matplotlib.pyplot as plt"
   ]
  },
  {
   "cell_type": "code",
   "execution_count": 3,
   "metadata": {},
   "outputs": [
    {
     "data": {
      "text/html": [
       "<div>\n",
       "<style scoped>\n",
       "    .dataframe tbody tr th:only-of-type {\n",
       "        vertical-align: middle;\n",
       "    }\n",
       "\n",
       "    .dataframe tbody tr th {\n",
       "        vertical-align: top;\n",
       "    }\n",
       "\n",
       "    .dataframe thead th {\n",
       "        text-align: right;\n",
       "    }\n",
       "</style>\n",
       "<table border=\"1\" class=\"dataframe\">\n",
       "  <thead>\n",
       "    <tr style=\"text-align: right;\">\n",
       "      <th></th>\n",
       "      <th>SepalLength</th>\n",
       "      <th>SepalWidth</th>\n",
       "      <th>PetalLength</th>\n",
       "      <th>PetalWidth</th>\n",
       "      <th>Name</th>\n",
       "    </tr>\n",
       "  </thead>\n",
       "  <tbody>\n",
       "    <tr>\n",
       "      <th>0</th>\n",
       "      <td>5.1</td>\n",
       "      <td>3.5</td>\n",
       "      <td>1.4</td>\n",
       "      <td>0.2</td>\n",
       "      <td>Iris-setosa</td>\n",
       "    </tr>\n",
       "    <tr>\n",
       "      <th>1</th>\n",
       "      <td>4.9</td>\n",
       "      <td>3.0</td>\n",
       "      <td>1.4</td>\n",
       "      <td>0.2</td>\n",
       "      <td>Iris-setosa</td>\n",
       "    </tr>\n",
       "    <tr>\n",
       "      <th>2</th>\n",
       "      <td>4.7</td>\n",
       "      <td>3.2</td>\n",
       "      <td>1.3</td>\n",
       "      <td>0.2</td>\n",
       "      <td>Iris-setosa</td>\n",
       "    </tr>\n",
       "    <tr>\n",
       "      <th>3</th>\n",
       "      <td>4.6</td>\n",
       "      <td>3.1</td>\n",
       "      <td>1.5</td>\n",
       "      <td>0.2</td>\n",
       "      <td>Iris-setosa</td>\n",
       "    </tr>\n",
       "    <tr>\n",
       "      <th>4</th>\n",
       "      <td>5.0</td>\n",
       "      <td>3.6</td>\n",
       "      <td>1.4</td>\n",
       "      <td>0.2</td>\n",
       "      <td>Iris-setosa</td>\n",
       "    </tr>\n",
       "  </tbody>\n",
       "</table>\n",
       "</div>"
      ],
      "text/plain": [
       "   SepalLength  SepalWidth  PetalLength  PetalWidth         Name\n",
       "0          5.1         3.5          1.4         0.2  Iris-setosa\n",
       "1          4.9         3.0          1.4         0.2  Iris-setosa\n",
       "2          4.7         3.2          1.3         0.2  Iris-setosa\n",
       "3          4.6         3.1          1.5         0.2  Iris-setosa\n",
       "4          5.0         3.6          1.4         0.2  Iris-setosa"
      ]
     },
     "execution_count": 3,
     "metadata": {},
     "output_type": "execute_result"
    }
   ],
   "source": [
    "data = pd.read_csv('../datasets/iris.csv')\n",
    "data.head()"
   ]
  },
  {
   "cell_type": "code",
   "execution_count": 4,
   "metadata": {},
   "outputs": [],
   "source": [
    "def euclideanDistance(left, right, length):\n",
    "    \n",
    "    distance= 0\n",
    "    for i in range(length):\n",
    "        distance += np.square(left[i] - right[i])\n",
    "    return np.sqrt(distance)"
   ]
  },
  {
   "cell_type": "code",
   "execution_count": 5,
   "metadata": {},
   "outputs": [],
   "source": [
    "\"\"\"\n",
    "    @params\n",
    "    k             - the number of neighbors\n",
    "    trainingSet   - the trainingset\n",
    "    testInstance  - the test instance to predict for\n",
    "\"\"\"\n",
    "\n",
    "def KNN(trainingSet, testInstance, k):\n",
    "        \n",
    "    length = testInstance.shape[0] # feature length\n",
    "    distances = {}\n",
    "    \n",
    "    # distance between testInstance and each trainingSet\n",
    "    for i in range(len(trainingSet)):\n",
    "        \n",
    "        dist = euclideanDistance(testInstance, trainingSet.iloc[i], length)\n",
    "        \n",
    "        distances[i] = dist[0]\n",
    "        \n",
    "    \n",
    "    sorted_d = sorted(distances.items(), key=lambda kv: kv[1])\n",
    "    \n",
    "    # get k neighbors closest to the testInstance\n",
    "    neighbors = []\n",
    "    \n",
    "    for i in range(k):\n",
    "        neighbors.append(sorted_d[i][0])\n",
    "    \n",
    "    # count of classes among neighbors\n",
    "    classVotes = {}\n",
    "    \n",
    "    for x in range(len(neighbors)):\n",
    "        \n",
    "        class_label = trainingSet.iloc[neighbors[x]][-1]\n",
    "        \n",
    "        if class_label in classVotes:\n",
    "            classVotes[class_label] += 1\n",
    "        else:\n",
    "            classVotes[class_label] = 1\n",
    "            \n",
    "    sorted_v = sorted(classVotes.items(), key=lambda kv: kv[1], reverse=True)\n",
    "    \n",
    "    return (sorted_v[0][0], neighbors)"
   ]
  },
  {
   "cell_type": "code",
   "execution_count": 6,
   "metadata": {},
   "outputs": [],
   "source": [
    "testSet = [[7.2, 3.6, 5.1, 2.5]]\n",
    "test = pd.DataFrame(testSet)"
   ]
  },
  {
   "cell_type": "code",
   "execution_count": 7,
   "metadata": {},
   "outputs": [
    {
     "name": "stdout",
     "output_type": "stream",
     "text": [
      "Iris-virginica\n"
     ]
    }
   ],
   "source": [
    "k = 1\n",
    "result, neighbors = KNN(data, test, k)\n",
    "\n",
    "print(result)"
   ]
  },
  {
   "cell_type": "code",
   "execution_count": 8,
   "metadata": {},
   "outputs": [
    {
     "name": "stdout",
     "output_type": "stream",
     "text": [
      "result = Iris-virginica\n",
      "neighbors = ['Iris-virginica', 'Iris-virginica', 'Iris-virginica']\n"
     ]
    }
   ],
   "source": [
    "k = 3\n",
    "result, neighbors = KNN(data, test, k)\n",
    "\n",
    "print(\"result = \" + result)\n",
    "print(\"neighbors = \" + str([data.iloc[x][-1] for x in neighbors]))"
   ]
  },
  {
   "cell_type": "code",
   "execution_count": 80,
   "metadata": {},
   "outputs": [],
   "source": [
    "\n",
    "class NearestNeighbor():\n",
    "    \n",
    "    def __init__(self):\n",
    "        pass\n",
    "    \n",
    "    def train(self, X, y):\n",
    "        \n",
    "        # TODO represent the data using kdtree\n",
    "        self.Xtr = X # size = N * D\n",
    "        self.ytr = y # size = N\n",
    "    \n",
    "    def predict(self, X):\n",
    "        \n",
    "        test_count = X.shape[0]\n",
    "        Ypred = np.zeros(test_count, dtype=self.ytr.dtype)\n",
    "        \n",
    "        for i in range(test_count):\n",
    "            \n",
    "            distances = np.sqrt(np.sum(np.square(self.Xtr - X[i,:]), axis = 1))\n",
    "            min_index = np.argmin(distances)\n",
    "            Ypred[i] = self.ytr[min_index]\n",
    "            \n",
    "        return Ypred"
   ]
  },
  {
   "cell_type": "code",
   "execution_count": 73,
   "metadata": {},
   "outputs": [],
   "source": [
    "def load_iris():\n",
    "    data = pd.read_csv('../datasets/iris.csv')\n",
    "    data_np = data.values\n",
    "    \n",
    "    idx = list(range(len(data_np)))\n",
    "    \n",
    "    np.random.seed(7382)\n",
    "    np.random.shuffle(idx)\n",
    "    \n",
    "    train_size = int(0.77 * data_np.shape[0])\n",
    "    test_size = data_np.shape[0] - train_size\n",
    "    \n",
    "    train_idx = idx[:train_size] \n",
    "    test_idx = idx[train_size:]\n",
    "    \n",
    "    Xtr_rows = data_np[train_idx, :-1].reshape(train_size, -1).astype(float)\n",
    "    Ytr = data_np[train_idx, -1].reshape(train_size, -1)\n",
    "    \n",
    "    Xte_rows = data_np[test_idx, :-1].reshape(test_size, -1).astype(float)\n",
    "    Yte = data_np[test_idx, -1].reshape(test_size, -1)\n",
    "    \n",
    "    return (Xtr_rows, Ytr, Xte_rows, Yte)\n",
    "\n",
    "# load_iris()"
   ]
  },
  {
   "cell_type": "code",
   "execution_count": 57,
   "metadata": {},
   "outputs": [
    {
     "name": "stdout",
     "output_type": "stream",
     "text": [
      "(115, 4)\n",
      "(35, 4)\n"
     ]
    }
   ],
   "source": [
    "Xtr_rows, Ytr, Xte_rows, Yte = load_iris()\n",
    "\n",
    "print(Xtr_rows.shape)\n",
    "print(Xte_rows.shape)"
   ]
  },
  {
   "cell_type": "code",
   "execution_count": 86,
   "metadata": {},
   "outputs": [
    {
     "name": "stdout",
     "output_type": "stream",
     "text": [
      "accuracy: 0.3404081632653061 \n"
     ]
    }
   ],
   "source": [
    "nn = NearestNeighbor()\n",
    "nn.train(Xtr_rows, Ytr)\n",
    "Yte_predict = nn.predict(Xte_rows)\n",
    "\n",
    "print(\"accuracy: {} \".format(np.mean(Yte_predict == Yte)))"
   ]
  },
  {
   "cell_type": "code",
   "execution_count": 85,
   "metadata": {},
   "outputs": [
    {
     "name": "stdout",
     "output_type": "stream",
     "text": [
      "[5.7 3.  4.2 1.2]\n",
      "['Iris-versicolor']\n"
     ]
    },
    {
     "data": {
      "text/plain": [
       "array([array(['Iris-versicolor'], dtype=object)], dtype=object)"
      ]
     },
     "execution_count": 85,
     "metadata": {},
     "output_type": "execute_result"
    }
   ],
   "source": [
    "print(Xte_rows[14])\n",
    "print(Yte[14])\n",
    "nn.predict(Xte_rows[14:15])"
   ]
  },
  {
   "cell_type": "code",
   "execution_count": null,
   "metadata": {},
   "outputs": [],
   "source": []
  }
 ],
 "metadata": {
  "kernelspec": {
   "display_name": "Python 3",
   "language": "python",
   "name": "python3"
  },
  "language_info": {
   "codemirror_mode": {
    "name": "ipython",
    "version": 3
   },
   "file_extension": ".py",
   "mimetype": "text/x-python",
   "name": "python",
   "nbconvert_exporter": "python",
   "pygments_lexer": "ipython3",
   "version": "3.6.8"
  }
 },
 "nbformat": 4,
 "nbformat_minor": 2
}
